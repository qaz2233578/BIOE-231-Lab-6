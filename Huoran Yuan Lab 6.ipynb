{
 "cells": [
  {
   "cell_type": "markdown",
   "metadata": {},
   "source": [
    "### Huoran Yuan Lab 6"
   ]
  },
  {
   "cell_type": "markdown",
   "metadata": {},
   "source": [
    "Terminal commands:"
   ]
  },
  {
   "cell_type": "markdown",
   "metadata": {},
   "source": [
    "＃conda install bowtie2\n",
    "**Align the reads to the human genome**"
   ]
  },
  {
   "cell_type": "markdown",
   "metadata": {},
   "source": [
    "[5485434@ip-172-30-0-105 ~]$ bowtie2 -p 4 --very-fast --no-unal -x /data/references/hg19/hg19 -U /data/Lab6_data/mixed_reads1.fastq -S aligned1.sam --un unaligned1.fastq"
   ]
  },
  {
   "cell_type": "markdown",
   "metadata": {},
   "source": [
    "Output:  \n",
    "1285441 reads; of these:  \n",
    "  1285441 (100.00%) were unpaired; of these:  \n",
    "    1030006 (80.13%) aligned 0 times  \n",
    "    234344 (18.23%) aligned exactly 1 time  \n",
    "    21091 (1.64%) aligned >1 times  \n",
    "19.87% overall alignment rate  "
   ]
  },
  {
   "cell_type": "markdown",
   "metadata": {},
   "source": [
    "**Using Very Sensitive:**  \n",
    "[5485434@ip-172-30-0-105 ~]$ bowtie2 -p 4 --very-sensitive --no-unal -x /data/references/hg19/hg19 -U  /data/Lab6_data/mixed_reads1.fastq -S aligned1.sam --un unaligned1.fastq  \n",
    "\n",
    "1285441 reads; of these:  \n",
    "  1285441 (100.00%) were unpaired; of these:  \n",
    "    1028342 (80.00%) aligned 0 times  \n",
    "    232655 (18.10%) aligned exactly 1 time  \n",
    "    24444 (1.90%) aligned >1 times  \n",
    "20.00% overall alignment rate  "
   ]
  },
  {
   "cell_type": "markdown",
   "metadata": {},
   "source": [
    "**What will you use for the database?**\n",
    "A bowtie2 database (also called an index) containing the human genome at /data/references/hg19/hg19  \n",
    "\n",
    "**Input reads?**  \n",
    "Illumina reads. \n",
    "\n",
    "**If you use the --un\tunaligned.fastq\toption,\twhat will unaligned.fastq contain?**  \n",
    "The unaligned.fastq file will contain all reads that do not align to the human genome\n",
    "\n",
    "**What percentage\tof your\tsequencing library\tcame from contaminating\thuman DNA?**  \n",
    "From the above output, 19.87%(fast) and 20%(sensitive) came from contaminating human DNA."
   ]
  },
  {
   "cell_type": "markdown",
   "metadata": {},
   "source": [
    "**Align the reads to the S. oneidensis reference genome:**  \n",
    "\n",
    "[5485434@ip-172-30-0-105 ~]$ bowtie2 -p 4 --very-fast --no-unal -x /data/references/shewanella_oneidensis_mr-  1/shewanella_oneidensis_mr-1 -U unaligned1.fastq -S shewanella_aligned1.sam --un shewanella_unaligned1.fastq \n",
    "\n",
    "Output:\n",
    "1030006 reads; of these:  \n",
    "  1030006 (100.00%) were unpaired; of these:\n",
    "    268017 (26.02%) aligned 0 times  \n",
    "    710825 (69.01%) aligned exactly 1 time  \n",
    "    51164 (4.97%) aligned >1 times  \n",
    "73.98% overall alignment rate  "
   ]
  },
  {
   "cell_type": "markdown",
   "metadata": {},
   "source": [
    "[5485434@ip-172-30-0-105 ~]$ bowtie2 -p 4 --very-sensitive --no-unal -x /data/references/shewanella_oneidensis_mr-  1/shewanella_oneidensis_mr-1 -U unaligned1.fastq -S shewanella_vsensitive.sam --un   shewanella_vsensitive_unaligned.fastq  \n",
    "Output:  \n",
    "1028342 reads; of these:  \n",
    "  1028342 (100.00%) were unpaired; of these:  \n",
    "    264850 (25.76%) aligned 0 times  \n",
    "    711311 (69.17%) aligned exactly 1 time  \n",
    "    52181 (5.07%) aligned >1 times  \n",
    "74.24% overall alignment rate  "
   ]
  },
  {
   "cell_type": "markdown",
   "metadata": {},
   "source": [
    "**If you use the\t--un unaligned.fastq option, what will unaligned.fastq contain?**\n",
    "\n",
    "It will contain the reads that cannot be aligned to neither the human nor S. oneidensis genome.\n",
    "\n",
    "**What percentage of your filtered library didn’t\talign to the reference genome? If you use --verysensitive instead\tof --very-fast, does this percentage increase or decrease?**  \n",
    "\n",
    "100%-73.98%= 26.02% (very fast)  \n",
    "100%-74.24%= 25.76% (very sensitive)  \n",
    "So the percentage decreased by 0.26%  "
   ]
  },
  {
   "cell_type": "markdown",
   "metadata": {},
   "source": [
    "### Generate a coverage plot:"
   ]
  },
  {
   "cell_type": "markdown",
   "metadata": {},
   "source": [
    "samtools view -b aligned_1.sam > aligned_1.bam  \n",
    "samtools sort aligned_1.bam > aligned_1.sorted.bam  \n",
    "samtools index aligned_1.sorted.bam  \n",
    "samtools depth -a aligned_1.sorted.bam > pileup.tab  \n"
   ]
  },
  {
   "cell_type": "code",
   "execution_count": 5,
   "metadata": {},
   "outputs": [],
   "source": [
    "import matplotlib.pyplot as plt\n",
    "import sys\n",
    "import csv\n",
    "import numpy as np\n",
    "from numpy.random import normal, rand\n",
    "\n"
   ]
  },
  {
   "cell_type": "code",
   "execution_count": 6,
   "metadata": {},
   "outputs": [
    {
     "ename": "FileNotFoundError",
     "evalue": "[Errno 2] No such file or directory: 'pileup.tab'",
     "output_type": "error",
     "traceback": [
      "\u001b[0;31m---------------------------------------------------------------------------\u001b[0m",
      "\u001b[0;31mFileNotFoundError\u001b[0m                         Traceback (most recent call last)",
      "\u001b[0;32m<ipython-input-6-97a4eddb5229>\u001b[0m in \u001b[0;36m<module>\u001b[0;34m\u001b[0m\n\u001b[1;32m      1\u001b[0m \u001b[0mdepths\u001b[0m \u001b[0;34m=\u001b[0m \u001b[0;34m[\u001b[0m\u001b[0;34m]\u001b[0m\u001b[0;34m\u001b[0m\u001b[0;34m\u001b[0m\u001b[0m\n\u001b[1;32m      2\u001b[0m \u001b[0mx\u001b[0m \u001b[0;34m=\u001b[0m \u001b[0;34m[\u001b[0m\u001b[0;34m]\u001b[0m\u001b[0;34m\u001b[0m\u001b[0;34m\u001b[0m\u001b[0m\n\u001b[0;32m----> 3\u001b[0;31m \u001b[0;32mwith\u001b[0m \u001b[0mopen\u001b[0m\u001b[0;34m(\u001b[0m\u001b[0;34m'pileup.tab'\u001b[0m\u001b[0;34m,\u001b[0m\u001b[0;34m'r'\u001b[0m\u001b[0;34m)\u001b[0m \u001b[0;32mas\u001b[0m \u001b[0moneidensis\u001b[0m\u001b[0;34m:\u001b[0m\u001b[0;34m\u001b[0m\u001b[0;34m\u001b[0m\u001b[0m\n\u001b[0m\u001b[1;32m      4\u001b[0m     \u001b[0mplots\u001b[0m \u001b[0;34m=\u001b[0m \u001b[0mcsv\u001b[0m\u001b[0;34m.\u001b[0m\u001b[0mreader\u001b[0m\u001b[0;34m(\u001b[0m\u001b[0moneidensis\u001b[0m\u001b[0;34m,\u001b[0m \u001b[0mdelimiter\u001b[0m\u001b[0;34m=\u001b[0m\u001b[0;34m'\\t'\u001b[0m\u001b[0;34m)\u001b[0m\u001b[0;34m\u001b[0m\u001b[0;34m\u001b[0m\u001b[0m\n\u001b[1;32m      5\u001b[0m     \u001b[0;32mfor\u001b[0m \u001b[0mrow\u001b[0m \u001b[0;32min\u001b[0m \u001b[0mplots\u001b[0m\u001b[0;34m:\u001b[0m\u001b[0;34m\u001b[0m\u001b[0;34m\u001b[0m\u001b[0m\n",
      "\u001b[0;31mFileNotFoundError\u001b[0m: [Errno 2] No such file or directory: 'pileup.tab'"
     ]
    }
   ],
   "source": [
    "depths = []\n",
    "x = []\n",
    "with open('pileup.tab','r') as oneidensis:\n",
    "    plots = csv.reader(oneidensis, delimiter='\\t')\n",
    "    for row in plots:\n",
    "        x.append(int(row[1]))\n",
    "        depths.append(int(row[2]))        \n",
    "\n",
    "plt.plot(x, depths,'r.')\n",
    "plt.title(\"Position in Genome\")  \n",
    "plt.xlabel(\"Position in Genome\") \n",
    "plt.ylabel(\"Depth\")\n",
    "plt.show()"
   ]
  },
  {
   "cell_type": "code",
   "execution_count": 7,
   "metadata": {},
   "outputs": [
    {
     "ename": "ValueError",
     "evalue": "max() arg is an empty sequence",
     "output_type": "error",
     "traceback": [
      "\u001b[0;31m---------------------------------------------------------------------------\u001b[0m",
      "\u001b[0;31mValueError\u001b[0m                                Traceback (most recent call last)",
      "\u001b[0;32m<ipython-input-7-d309b73069d2>\u001b[0m in \u001b[0;36m<module>\u001b[0;34m\u001b[0m\n\u001b[0;32m----> 1\u001b[0;31m \u001b[0mprint\u001b[0m\u001b[0;34m(\u001b[0m\u001b[0mmax\u001b[0m\u001b[0;34m(\u001b[0m\u001b[0mdepths\u001b[0m\u001b[0;34m)\u001b[0m\u001b[0;34m)\u001b[0m\u001b[0;34m\u001b[0m\u001b[0;34m\u001b[0m\u001b[0m\n\u001b[0m\u001b[1;32m      2\u001b[0m \u001b[0mprint\u001b[0m\u001b[0;34m(\u001b[0m\u001b[0mmin\u001b[0m\u001b[0;34m(\u001b[0m\u001b[0mdepths\u001b[0m\u001b[0;34m)\u001b[0m\u001b[0;34m)\u001b[0m\u001b[0;34m\u001b[0m\u001b[0;34m\u001b[0m\u001b[0m\n\u001b[1;32m      3\u001b[0m \u001b[0mprint\u001b[0m\u001b[0;34m(\u001b[0m\u001b[0msum\u001b[0m\u001b[0;34m(\u001b[0m\u001b[0mdepths\u001b[0m\u001b[0;34m)\u001b[0m\u001b[0;34m/\u001b[0m\u001b[0mlen\u001b[0m\u001b[0;34m(\u001b[0m\u001b[0mdepths\u001b[0m\u001b[0;34m)\u001b[0m\u001b[0;34m)\u001b[0m\u001b[0;34m\u001b[0m\u001b[0;34m\u001b[0m\u001b[0m\n",
      "\u001b[0;31mValueError\u001b[0m: max() arg is an empty sequence"
     ]
    }
   ],
   "source": [
    "print(max(depths))\n",
    "print(min(depths))\n",
    "print(sum(depths)/len(depths))"
   ]
  },
  {
   "cell_type": "code",
   "execution_count": 8,
   "metadata": {},
   "outputs": [
    {
     "data": {
      "image/png": "[encoded data removed]",
      "text/plain": [
       "<Figure size 432x288 with 1 Axes>"
      ]
     },
     "metadata": {
      "needs_background": "light"
     },
     "output_type": "display_data"
    }
   ],
   "source": [
    "plt.hist(depths, bins= 90)\n",
    "plt.title(\"Depth of Coverage\")  \n",
    "plt.xlabel(\"Depth\") \n",
    "plt.ylabel(\"Nucleotide Position\")\n",
    "plt.show()"
   ]
  },
  {
   "cell_type": "code",
   "execution_count": null,
   "metadata": {},
   "outputs": [],
   "source": []
  }
 ],
 "metadata": {
  "kernelspec": {
   "display_name": "Python 3",
   "language": "python",
   "name": "python3"
  },
  "language_info": {
   "codemirror_mode": {
    "name": "ipython",
    "version": 3
   },
   "file_extension": ".py",
   "mimetype": "text/x-python",
   "name": "python",
   "nbconvert_exporter": "python",
   "pygments_lexer": "ipython3",
   "version": "3.7.3"
  }
 },
 "nbformat": 4,
 "nbformat_minor": 2
}
